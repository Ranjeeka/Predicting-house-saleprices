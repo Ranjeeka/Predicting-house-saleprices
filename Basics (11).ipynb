{
 "cells": [
  {
   "cell_type": "markdown",
   "metadata": {
    "collapsed": true
   },
   "source": [
    "# Predicting house sale prices #\n",
    "\n",
    "The housing data used for this project is from the city of Ames, Iowa, United States. More information about the data can be found [here](https://s3.amazonaws.com/dq-content/307/data_description.txt).\n",
    "\n",
    "**The process pipeline:**\n",
    "\n",
    "- tranform_features\n",
    "- select_features\n",
    "- train_and_test\n",
    "- rmse_values\n"
   ]
  },
  {
   "cell_type": "code",
   "execution_count": 821,
   "metadata": {
    "collapsed": false,
    "scrolled": true
   },
   "outputs": [],
   "source": [
    "import pandas as pd\n",
    "import numpy as np\n",
    "from sklearn.linear_model import LinearRegression\n",
    "from sklearn.neighbors import KNeighborsClassifier\n",
    "from sklearn.metrics import mean_squared_error, r2_score\n",
    "\n",
    "housing = pd.read_csv('AmesHousing.tsv', sep='\\t')"
   ]
  },
  {
   "cell_type": "code",
   "execution_count": 822,
   "metadata": {
    "collapsed": true
   },
   "outputs": [],
   "source": [
    "#Function to fit, train, predict and test our model and return rmse values\n",
    "\n",
    "def train_and_test(df,features):\n",
    "    train = df.loc[:1460]\n",
    "    test = df.loc[1460:]\n",
    "    target = 'SalePrice'\n",
    "    lr = LinearRegression()\n",
    "    lr.fit(train[features], train[target])\n",
    "    predict_train = lr.predict(train[features])\n",
    "    predict_test = lr.predict(test[features])\n",
    "    mse_train = mean_squared_error(train[target],predict_train)\n",
    "    mse_test = mean_squared_error(test[target], predict_test)\n",
    "    rmse_train = np.sqrt(mse_train)\n",
    "    rmse_test = np.sqrt(mse_test)\n",
    "    avg_rmse = (rmse_train+rmse_test)/2\n",
    "    r2_1 = r2_score(train['SalePrice'],predict_train)\n",
    "    r2_2 = r2_score(test['SalePrice'],predict_test)\n",
    "    avg_r2 = (r2_1 + r2_2)/2\n",
    "    return avg_rmse,avg_r2\n",
    "    "
   ]
  },
  {
   "cell_type": "markdown",
   "metadata": {
    "collapsed": true
   },
   "source": [
    "# Transforming and Cleaning Data#\n",
    "\n",
    "- For numerical columns, we fill missing or NAN columns with column mean if less than 5% of values are missing. \n",
    "- For Text columns, if column is categorical with not too many missing values, we replace it with text. Otherwise we drop it."
   ]
  },
  {
   "cell_type": "code",
   "execution_count": 823,
   "metadata": {
    "collapsed": false
   },
   "outputs": [],
   "source": [
    "#Calculating % of mising values in numerical columns and filling them accordingly\n",
    "\n",
    "def null_values(col,name):\n",
    "    percentage = ((col.isnull().sum())/len(col)) * 100\n",
    "    return percentage\n",
    "\n",
    "\n",
    "num_houses = housing.select_dtypes(include = ['int64','float64']).copy()\n",
    "\n",
    "for co in num_houses.columns:\n",
    "    per = null_values(num_houses[co],co)\n",
    "    if per < 5:\n",
    "        num_houses[co].fillna(num_houses[co].mean(), inplace=True)\n",
    "    "
   ]
  },
  {
   "cell_type": "code",
   "execution_count": 824,
   "metadata": {
    "collapsed": false
   },
   "outputs": [],
   "source": [
    "#Further filling and Dropping columns \n",
    "\n",
    "data = num_houses\n",
    "ob = housing.copy()\n",
    "ob = ob.select_dtypes(include = 'object')\n",
    "ob.drop(columns = 'Alley', inplace= True)\n",
    "ob.loc[:,'Pool QC'].fillna('No Pool', inplace=True)\n",
    "ob.loc[:,'Fence'].fillna('No Fence', inplace = True)\n",
    "ob.loc[:,'Mas Vnr Type'].fillna('No Vnr',inplace = True)\n",
    "ob.drop(columns ='Misc Feature', inplace = True)\n",
    "data.drop(columns ='Lot Frontage', inplace = True)\n",
    "data.drop(columns ='Garage Yr Blt', inplace = True)\n",
    "ob.loc[:,'Fireplace Qu'].fillna('No Fireplace', inplace = True)"
   ]
  },
  {
   "cell_type": "code",
   "execution_count": 825,
   "metadata": {
    "collapsed": false
   },
   "outputs": [],
   "source": [
    "# Concat text and numerical columns\n",
    "data = pd.concat([ob,data],axis=1)\n",
    "data['Yr to Remodel'] = data['Year Remod/Add'] - data['Year Built']\n",
    "text_cols = list(data.select_dtypes(include = 'object').columns)"
   ]
  },
  {
   "cell_type": "markdown",
   "metadata": {},
   "source": [
    "### Normalizing Data ###\n",
    "\n",
    "We normalize num columns except identity or label columns and our target column to get a meaningful relationship between the two that can be interpreted by correlations.\n",
    "\n",
    "**Formula:**\n",
    "column = (column - column_mean)/(column_max - column_min)"
   ]
  },
  {
   "cell_type": "code",
   "execution_count": 826,
   "metadata": {
    "collapsed": false
   },
   "outputs": [],
   "source": [
    "num_cols = list(data.select_dtypes(include = ['int64','float64']).columns)\n",
    "num_cols.remove('SalePrice')\n",
    "num_cols.remove('Order')\n",
    "num_cols.remove('PID')"
   ]
  },
  {
   "cell_type": "code",
   "execution_count": 827,
   "metadata": {
    "collapsed": true
   },
   "outputs": [],
   "source": [
    "data[num_cols] = (data[num_cols] - data[num_cols].mean()) / (data[num_cols].max() -data[num_cols].min())"
   ]
  },
  {
   "cell_type": "code",
   "execution_count": 828,
   "metadata": {
    "collapsed": true
   },
   "outputs": [],
   "source": [
    "#For reusing the column list and convenience, we append it back\n",
    "num_cols.append('SalePrice')"
   ]
  },
  {
   "cell_type": "markdown",
   "metadata": {},
   "source": [
    "# Mapping Correlations ##\n",
    "\n",
    "Correlations between numerical feature columns with our target 'SalePrice' column gives us enough information to start selecting our features. The stronger the positive correlation, the closer the value is to 1."
   ]
  },
  {
   "cell_type": "code",
   "execution_count": 829,
   "metadata": {
    "collapsed": false
   },
   "outputs": [
    {
     "data": {
      "text/plain": [
       "<matplotlib.axes._subplots.AxesSubplot at 0x7f417ef7cdd8>"
      ]
     },
     "execution_count": 829,
     "metadata": {},
     "output_type": "execute_result"
    },
    {
     "data": {
      "image/png": "[encoded data removed]",
      "text/plain": [
       "<matplotlib.figure.Figure at 0x7f417f30e320>"
      ]
     },
     "metadata": {},
     "output_type": "display_data"
    }
   ],
   "source": [
    "import seaborn as sns\n",
    "import matplotlib.pyplot as plt\n",
    "% matplotlib inline\n",
    "\n",
    "correlations = data[num_cols].corr()\n",
    "strong_corrs = correlations[correlations['SalePrice']>0.2].copy()\n",
    "fig,ax = plt.subplots(figsize=(15,10))\n",
    "sns.heatmap(strong_corrs[strong_corrs.index], linewidths=.5, ax=ax)"
   ]
  },
  {
   "cell_type": "markdown",
   "metadata": {},
   "source": [
    "From the above heatmap, Overall quality and Gr Liv Area seem to have the highest correlation with SalePrice. We will set these as out features and add more features to get optimal RMSE values through trial and error."
   ]
  },
  {
   "cell_type": "code",
   "execution_count": 830,
   "metadata": {
    "collapsed": false
   },
   "outputs": [
    {
     "name": "stdout",
     "output_type": "stream",
     "text": [
      "RMSE before converting categorical columns: 34745.04187725837\n"
     ]
    }
   ],
   "source": [
    "feat = list(strong_corrs.index)\n",
    "feat.remove('SalePrice')\n",
    "rmse,r2_nocorr = train_and_test(data,feat)\n",
    "print('RMSE before converting categorical columns:',rmse)"
   ]
  },
  {
   "cell_type": "markdown",
   "metadata": {},
   "source": [
    "# Dealing with Categorical columns #\n",
    "\n",
    "Categorical values are text values columns that have repeating values. Through trial and error, we select the below values to get the lowest RMSE values."
   ]
  },
  {
   "cell_type": "code",
   "execution_count": 831,
   "metadata": {
    "collapsed": false
   },
   "outputs": [],
   "source": [
    "#get dummies from the following categorical values\n",
    "\n",
    "text_cols = ['Bldg Type','Garage Type','Neighborhood','Utilities','Lot Config','Foundation','Bsmt Qual','Bsmt Cond','BsmtFin Type 1',\n",
    "            'Heating QC','Central Air','Kitchen Qual','Garage Qual','Fence','MS Zoning']\n",
    "dummies = pd.DataFrame()\n",
    "\n",
    "dummies = pd.get_dummies(data[text_cols])\n",
    "data = pd.concat([data,dummies], axis=1)\n",
    "for col in text_cols:\n",
    "    \n",
    "    del data[col]"
   ]
  },
  {
   "cell_type": "code",
   "execution_count": 832,
   "metadata": {
    "collapsed": false
   },
   "outputs": [],
   "source": [
    "#extract the new dummy column index\n",
    "cat_cols = list(data.select_dtypes(include='uint8').columns)\n",
    "for c in strong_corrs.index:\n",
    "    cat_cols.append(c)"
   ]
  },
  {
   "cell_type": "code",
   "execution_count": 833,
   "metadata": {
    "collapsed": false
   },
   "outputs": [],
   "source": [
    "#Setting an arbitrary correlation threshols. Experiment to get optimal RMSE values\n",
    "overall_corr = data[cat_cols].corr()\n",
    "good_corr = list(overall_corr[overall_corr['SalePrice'] > 0.2].index)"
   ]
  },
  {
   "cell_type": "code",
   "execution_count": 834,
   "metadata": {
    "collapsed": false
   },
   "outputs": [],
   "source": [
    "#calling out train and test function for model fitting and predictions\n",
    "feat_2 = good_corr\n",
    "feat_2.remove('SalePrice')\n",
    "rmse_2,r2_withcorr = train_and_test(data,feat_2)"
   ]
  },
  {
   "cell_type": "code",
   "execution_count": 836,
   "metadata": {
    "collapsed": false
   },
   "outputs": [
    {
     "name": "stdout",
     "output_type": "stream",
     "text": [
      "RMSE after converting categorical columns: 30516.601151128627\n"
     ]
    }
   ],
   "source": [
    "print('RMSE after converting categorical columns:',rmse_2)\n"
   ]
  },
  {
   "cell_type": "markdown",
   "metadata": {},
   "source": [
    "# Checking co-efficient of determination R2 #\n",
    "R2 score evaluates the performance of a machine learning model. The function is accessed from the scikitlearn library."
   ]
  },
  {
   "cell_type": "code",
   "execution_count": 837,
   "metadata": {
    "collapsed": false
   },
   "outputs": [
    {
     "name": "stdout",
     "output_type": "stream",
     "text": [
      "R2 score with categorical columns 0.8497269943677487\n",
      "R2 score without categorical columns 0.8067357707423013\n"
     ]
    }
   ],
   "source": [
    "print('R2 score with categorical columns',r2_withcorr)\n",
    "print('R2 score without categorical columns',r2_nocorr)"
   ]
  },
  {
   "cell_type": "markdown",
   "metadata": {},
   "source": [
    "With categorical values converted to numerical columns, the R2 score is 0.85 which mean that this model predicts variations 85% of the time which is adequate."
   ]
  }
 ],
 "metadata": {
  "anaconda-cloud": {},
  "kernelspec": {
   "display_name": "Python 3",
   "language": "python",
   "name": "python3"
  },
  "language_info": {
   "codemirror_mode": {
    "name": "ipython",
    "version": 3
   },
   "file_extension": ".py",
   "mimetype": "text/x-python",
   "name": "python",
   "nbconvert_exporter": "python",
   "pygments_lexer": "ipython3",
   "version": "3.4.3"
  }
 },
 "nbformat": 4,
 "nbformat_minor": 2
}
